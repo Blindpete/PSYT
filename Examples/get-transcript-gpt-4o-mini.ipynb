{
 "cells": [
  {
   "cell_type": "code",
   "execution_count": null,
   "metadata": {
    "dotnet_interactive": {
     "language": "pwsh"
    },
    "polyglot_notebook": {
     "kernelName": "pwsh"
    }
   },
   "outputs": [],
   "source": [
    "$instuctions = @'\n",
    "You are tasked with summarizing a YouTube video transcript. The transcript will be provided to you, and you should analyze it to create a comprehensive summary with specific sections. \n",
    "\n",
    "Your goal is to thoroughly analyze this transcript and provide a structured summary with the following sections:\n",
    "\n",
    "1. TITLE: The title of the video.\n",
    "2. WHO: The Speaker and Guest if any.\n",
    "3. SOCIAL: Social media handles and brief analysis of online presence.\n",
    "4. LINKS: Relevant links in the description.\n",
    "5. TIMESTAMPS: Key moments in the video with timestamps.\n",
    "6. SUMMARY\n",
    "7. KEY INSIGHTS\n",
    "8. NOTABLE QUOTES\n",
    "9. ACTIONABLE TAKEAWAYS\n",
    "10. INTERDISCIPLINARY CONNECTIONS\n",
    "11. VISUAL AIDS\n",
    "12. GLOSSARY\n",
    "13. CONTROVERSY OR DEBATE\n",
    "14. FACT-CHECK\n",
    "15. COMPARE AND CONTRAST\n",
    "16. FUTURE LEARNING\n",
    "\n",
    "To complete this task effectively, follow these steps:\n",
    "\n",
    "1. Carefully read and analyze the entire transcript.\n",
    "2. Identify the main topics, themes, and arguments presented in the video.\n",
    "3. Extract key information, insights, and quotes that are relevant to each section.\n",
    "4. Synthesize the information to create concise yet informative content for each section.\n",
    "\n",
    "Guidelines for each section:\n",
    "\n",
    "1. SUMMARY: Provide a concise overview of the video's main points and overall message. This should be a brief paragraph that captures the essence of the content.\n",
    "\n",
    "2. KEY INSIGHTS: List 3-5 main takeaways or important concepts discussed in the video. These should be the core ideas that viewers should remember.\n",
    "\n",
    "3. NOTABLE QUOTES: Include 2-3 significant or impactful quotes from the transcript. Choose quotes that best represent the video's message or provide valuable insights.\n",
    "\n",
    "4. ACTIONABLE TAKEAWAYS: List 3-5 practical steps or actions that viewers can implement based on the video's content. Focus on concrete, applicable suggestions.\n",
    "\n",
    "5. INTERDISCIPLINARY CONNECTIONS: Identify 2-3 ways the video's content relates to or could be applied in other fields, industries, or areas of study. This encourages broader thinking and application of the ideas presented.\n",
    "\n",
    "6. TIMESTAMPS: Provide 3-5 key moments in the video with their corresponding timestamps, allowing viewers to quickly navigate to specific parts of interest.\n",
    "\n",
    "7. VISUAL AIDS: Describe any important charts, graphs, or visual demonstrations used in the video, explaining their significance to the overall message.\n",
    "\n",
    "8. GLOSSARY: Define 3-5 key terms or concepts that might be unfamiliar to some viewers or are crucial to understanding the video's content.\n",
    "\n",
    "9. CONTROVERSY OR DEBATE: If applicable, summarize any contentious points or ongoing debates related to the video's topic. If not applicable, omit this section.\n",
    "\n",
    "10. FACT-CHECK: Highlight any claims made in the video that might need verification or further research. Provide context for why these claims might be controversial or require additional scrutiny.\n",
    "\n",
    "11. COMPARE AND CONTRAST: If relevant, compare the video's content with other popular views or theories on the topic. Highlight similarities and differences to provide a broader perspective.\n",
    "\n",
    "12. FUTURE LEARNING: Suggest 2-3 related topics or areas for further exploration based on the video's content. This should encourage continued learning and deeper understanding of the subject matter.\n",
    "\n",
    "Formatting requirements:\n",
    "\n",
    "- Use Markdown formatting for your output.\n",
    "- Use appropriate headers (##) for each section.\n",
    "- Use bullet points (-) for list items within sections.\n",
    "- Ensure each section is distinct and avoid repeating information across sections.\n",
    "- Focus on extracting and presenting information that promotes continued learning and personal growth.\n",
    "- Do not include any warnings, notes, or explanations outside of the requested sections.\n",
    "\n",
    "Begin your analysis and provide the structured summary based on these instructions.\n",
    "\n",
    "'@"
   ]
  },
  {
   "cell_type": "code",
   "execution_count": null,
   "metadata": {
    "dotnet_interactive": {
     "language": "pwsh"
    },
    "polyglot_notebook": {
     "kernelName": "pwsh"
    }
   },
   "outputs": [],
   "source": [
    "$info = get-transcript -videoId OHQFObW6PXA -IncludeTitle -IncludeDescription"
   ]
  },
  {
   "cell_type": "code",
   "execution_count": null,
   "metadata": {
    "dotnet_interactive": {
     "language": "pwsh"
    },
    "polyglot_notebook": {
     "kernelName": "pwsh"
    }
   },
   "outputs": [],
   "source": [
    "$transcript = @\"\n",
    "Here's the video details and transcript:\n",
    "<title>\n",
    "$($info.title)\n",
    "</title>\n",
    "\n",
    "<description>\n",
    "$($info.description)\n",
    "</description>\n",
    "\n",
    "<transcript>\n",
    "$($info.transcript | Out-String)\n",
    "</transcript>\n",
    "\"@\n"
   ]
  },
  {
   "cell_type": "code",
   "execution_count": null,
   "metadata": {},
   "outputs": [],
   "source": [
    "$transcript | ai -Instructions $instuctions -model:'gpt-4o-mini'"
   ]
  },
  {
   "cell_type": "markdown",
   "metadata": {},
   "source": [
    "## TITLE\n",
    "AI Development for a Non-Developer\n",
    "\n",
    "## WHO\n",
    "**Speaker:** John Savill\n",
    "**Guest:** None\n",
    "\n",
    "## SOCIAL\n",
    "- **YouTube Channel:** [John Savill's Technical Training](https://www.youtube.com/channel/UCpIn7ox7j7bH_OFj7tYouOQ)\n",
    "- **Twitter:** (not mentioned)\n",
    "- **Overall Analysis:** The speaker has a strong online presence with a focus on technical training, especially related to cloud computing and AI. Engaging videos and structured learning paths suggest a commitment to education.\n",
    "\n",
    "## LINKS\n",
    "- [Whiteboard Example](https://github.com/johnthebrit/RandomStuff/raw/master/Whiteboards/AIDevForNonDevs.png)\n",
    "- [Example Python Code](https://github.com/johnthebrit/RandomStuff/raw/master/AI/simpleGPT.py)\n",
    "- [Azure AI Studio](https://ai.azure.com/)\n",
    "- [Python Download](https://www.python.org/downloads/)\n",
    "- [Azure CLI Install](https://learn.microsoft.com/cli/azure/install-azure-cli#install)\n",
    "- [VS Code Install](https://code.visualstudio.com/download)\n",
    "\n",
    "## TIMESTAMPS\n",
    "- **00:00** - Introduction\n",
    "- **11:42** - Adding connections to your hub\n",
    "- **20:30** - Deploying a model\n",
    "- **38:02** - Lack of memory problem\n",
    "- **54:05** - Code Review\n",
    "- **58:17** - Next step challenge\n",
    "\n",
    "## SUMMARY\n",
    "In the video \"AI Development for a Non-Developer,\" John Savill guides viewers through creating a simple AI application using Python that connects to Azure's OpenAI GPT models. The tutorial emphasizes accessibility for non-developers, walking through key setup steps including installing Python, required packages, and creating an Azure hub. The video highlights practical coding techniques and common challenges, such as handling AI memory and maintaining context in user interactions.\n",
    "\n",
    "## KEY INSIGHTS\n",
    "- Python is a user-friendly programming language, ideal for beginners.\n",
    "- Azure provides various tools to deploy and manage AI models.\n",
    "- Memory and context management are critical for effective AI interaction.\n",
    "- Code reusability and best practices are essential for creating efficient applications.\n",
    "\n",
    "## NOTABLE QUOTES\n",
    "1. \"I'm going to look at the OpenAI GPT models and how, as a non-developer, you can create your own little application.\"\n",
    "2. \"You need to ensure you're getting all your components set up for development; Python really makes it easy.\"\n",
    "3. \"When I send it a prompt, I have to tell it what we said on the last time.\"\n",
    "\n",
    "## ACTIONABLE TAKEAWAYS\n",
    "- Download and install Python and required libraries to experiment with AI development.\n",
    "- Set up an Azure account and create the necessary AI resources.\n",
    "- Practice coding by developing a simple AI application that utilizes Azure's OpenAI GPT capabilities.\n",
    "- Implement memory management in your application to enhance user interaction quality.\n",
    "\n",
    "## INTERDISCIPLINARY CONNECTIONS\n",
    "- **Computer Science:** Application of programming languages in AI development.\n",
    "- **Data Science:** The importance of data handling and memory management for training models.\n",
    "- **Psychology:** Understanding user interactions and how memory affects AI responses can bridge human-technology interaction.\n",
    "\n",
    "## VISUAL AIDS\n",
    "- The video contains visual demonstrations of coding in VS Code and navigating the Azure portal, which enhance the understanding of the development process and resource management.\n",
    "\n",
    "## GLOSSARY\n",
    "- **Python:** A high-level programming language known for its readability and simplicity.\n",
    "- **Azure OpenAI:** A cloud-based platform that provides AI services and tools, including access to GPT models.\n",
    "- **Tokens:** Units of text that AI models process, where each word or symbol can count toward the input or output.\n",
    "\n",
    "## CONTROVERSY OR DEBATE\n",
    "This section was not applicable within the context of the video's subject matter.\n",
    "\n",
    "## FACT-CHECK\n",
    "The speaker mentions pricing nuances for using Azure OpenAI, which may require further scrutiny to understand cost implications fully.\n",
    "\n",
    "## COMPARE AND CONTRAST\n",
    "Unlike traditional programming languages which require more complex setups, Python and Azure's tools provide simplified pathways for non-developers, making AI more accessible.\n",
    "\n",
    "## FUTURE LEARNING\n",
    "- Explore deeper into Azure services and their applications in various fields.\n",
    "- Learn about model optimization and advanced AI techniques.\n",
    "- Investigate data ethics and the societal impacts of AI implementations."
   ]
  }
 ],
 "metadata": {
  "kernelspec": {
   "display_name": ".NET (C#)",
   "language": "C#",
   "name": ".net-csharp"
  },
  "polyglot_notebook": {
   "kernelInfo": {
    "defaultKernelName": "csharp",
    "items": [
     {
      "aliases": [],
      "name": "csharp"
     }
    ]
   }
  }
 },
 "nbformat": 4,
 "nbformat_minor": 2
}
